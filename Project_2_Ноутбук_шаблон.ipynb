{
 "cells": [
  {
   "cell_type": "markdown",
   "id": "42289889-bd57-434e-9637-d3e354756316",
   "metadata": {
    "id": "42289889-bd57-434e-9637-d3e354756316"
   },
   "source": [
    "<center> <img src = https://raw.githubusercontent.com/AndreyRysistov/DatasetsForPandas/main/hh%20label.jpg alt=\"drawing\" style=\"width:400px;\">"
   ]
  },
  {
   "cell_type": "markdown",
   "id": "829cb75b-f14e-4ba8-9195-7ba929a7d656",
   "metadata": {
    "id": "829cb75b-f14e-4ba8-9195-7ba929a7d656",
    "tags": []
   },
   "source": [
    "# <center> Проект: Анализ вакансий из HeadHunter\n",
    "   "
   ]
  },
  {
   "cell_type": "code",
   "execution_count": 1,
   "id": "dccfde33-2452-43fb-a8a5-5c6ebc02a71d",
   "metadata": {
    "id": "dccfde33-2452-43fb-a8a5-5c6ebc02a71d"
   },
   "outputs": [],
   "source": [
    "import pandas as pd\n",
    "import psycopg2\n",
    "\n",
    "import warnings\n",
    "warnings.filterwarnings('ignore')\n",
    "\n",
    "from bs4 import BeautifulSoup\n",
    "import requests"
   ]
  },
  {
   "cell_type": "code",
   "execution_count": 2,
   "id": "ddafd8ab",
   "metadata": {},
   "outputs": [
    {
     "name": "stdout",
     "output_type": "stream",
     "text": [
      "Note: you may need to restart the kernel to use updated packages.\n"
     ]
    }
   ],
   "source": [
    "pip freeze > requirements.txt"
   ]
  },
  {
   "cell_type": "code",
   "execution_count": 3,
   "id": "oVKH4ehvf8Ay",
   "metadata": {
    "id": "oVKH4ehvf8Ay"
   },
   "outputs": [],
   "source": [
    "# вставьте сюда параметры подключения из юнита 1. Работа с базой данных из Python \n",
    "DBNAME = 'project_sql'\n",
    "USER = 'skillfactory'\n",
    "PASSWORD = 'cCkxxLVrDE8EbvjueeMedPKt'\n",
    "HOST = '84.201.134.129'\n",
    "PORT = 5432"
   ]
  },
  {
   "cell_type": "code",
   "execution_count": 4,
   "id": "7f14fd5d",
   "metadata": {},
   "outputs": [],
   "source": [
    "def load_and_show_data(sql_query, show_result=True, show_index=False, title_of_result='Результат запроса:'):\n",
    "    with psycopg2.connect(\n",
    "        dbname=DBNAME,\n",
    "        user=USER,\n",
    "        host=HOST,\n",
    "        password=PASSWORD,\n",
    "        port=PORT\n",
    "    ) as conn:\n",
    "        result = pd.read_sql_query(sql_query, conn)\n",
    "    conn.close()\n",
    "    if show_result:\n",
    "        print(title_of_result)\n",
    "        print(result.to_string(index=show_index))\n",
    "    return result"
   ]
  },
  {
   "cell_type": "markdown",
   "id": "0dc6476b-7a00-44f1-ac93-6e3baed33a29",
   "metadata": {
    "id": "0dc6476b-7a00-44f1-ac93-6e3baed33a29"
   },
   "source": [
    "# Юнит 3. Предварительный анализ данных"
   ]
  },
  {
   "cell_type": "markdown",
   "id": "889782b6-8d1c-410e-8920-e57f27917c64",
   "metadata": {
    "id": "889782b6-8d1c-410e-8920-e57f27917c64"
   },
   "source": [
    "1. Напишите запрос, который посчитает количество вакансий в нашей базе (вакансии находятся в таблице vacancies). "
   ]
  },
  {
   "cell_type": "code",
   "execution_count": 5,
   "id": "bc39e68e-ed02-4ee2-9235-7258a2f867a8",
   "metadata": {
    "id": "bc39e68e-ed02-4ee2-9235-7258a2f867a8"
   },
   "outputs": [
    {
     "name": "stdout",
     "output_type": "stream",
     "text": [
      "Результат запроса:\n",
      " vacancies_count\n",
      "           49197\n"
     ]
    }
   ],
   "source": [
    "load_and_show_data(f'''\n",
    "   SELECT Count(*) AS vacancies_count\n",
    "   FROM vacancies\n",
    "''');"
   ]
  },
  {
   "cell_type": "markdown",
   "id": "b583485d-1f9e-494e-ada4-80ffff7c53d6",
   "metadata": {
    "id": "b583485d-1f9e-494e-ada4-80ffff7c53d6"
   },
   "source": [
    "2. Напишите запрос, который посчитает количество работодателей (таблица employers). "
   ]
  },
  {
   "cell_type": "code",
   "execution_count": 6,
   "id": "5408c52c-3407-4a63-b25b-1aafa2322d28",
   "metadata": {
    "id": "5408c52c-3407-4a63-b25b-1aafa2322d28"
   },
   "outputs": [
    {
     "name": "stdout",
     "output_type": "stream",
     "text": [
      "Результат запроса:\n",
      " employers_count\n",
      "           23501\n"
     ]
    }
   ],
   "source": [
    "load_and_show_data(f'''\n",
    "    SELECT Count(*) AS employers_count\n",
    "    FROM employers\n",
    "''');"
   ]
  },
  {
   "cell_type": "markdown",
   "id": "a2bfff1f-c975-4bf6-84be-2185d79dcb76",
   "metadata": {
    "id": "a2bfff1f-c975-4bf6-84be-2185d79dcb76"
   },
   "source": [
    "3. Посчитате с помощью запроса количество регионов (таблица areas)."
   ]
  },
  {
   "cell_type": "code",
   "execution_count": 7,
   "id": "1m8QJwBYhey6",
   "metadata": {
    "id": "1m8QJwBYhey6"
   },
   "outputs": [
    {
     "name": "stdout",
     "output_type": "stream",
     "text": [
      "Результат запроса:\n",
      " areas_count\n",
      "        1362\n"
     ]
    }
   ],
   "source": [
    "load_and_show_data(f'''\n",
    "    SELECT Count(*) AS areas_count\n",
    "    FROM areas\n",
    "''');"
   ]
  },
  {
   "cell_type": "markdown",
   "id": "41bb59f3-53cc-4a67-a5bc-bedf573955e4",
   "metadata": {
    "id": "41bb59f3-53cc-4a67-a5bc-bedf573955e4"
   },
   "source": [
    "4. Посчитате с помощью запроса количество сфер деятельности в базе (таблица industries)."
   ]
  },
  {
   "cell_type": "code",
   "execution_count": 8,
   "id": "d286cf4c-707b-4cd2-9190-7ab3587d04a1",
   "metadata": {
    "id": "d286cf4c-707b-4cd2-9190-7ab3587d04a1"
   },
   "outputs": [
    {
     "name": "stdout",
     "output_type": "stream",
     "text": [
      "Результат запроса:\n",
      " industries_count\n",
      "              294\n"
     ]
    }
   ],
   "source": [
    "load_and_show_data(f'''\n",
    "    SELECT Count(*) AS industries_count\n",
    "    FROM industries\n",
    "''');"
   ]
  },
  {
   "cell_type": "markdown",
   "id": "9a8a2181-6914-448b-85f1-38f5f18b8a93",
   "metadata": {
    "id": "9a8a2181-6914-448b-85f1-38f5f18b8a93"
   },
   "source": [
    "***"
   ]
  },
  {
   "cell_type": "markdown",
   "id": "1e36bcaa",
   "metadata": {
    "id": "be4e9bd3-a4db-4a20-82fb-6b02fc2957e0"
   },
   "source": [
    "**Выводы по предварительному анализу данных**  \n",
    "\n",
    "Итого:  \n",
    "\n",
    "Всего вакансии: 49197  \n",
    "Всего работодателей: 23501  \n",
    "Всего регионов(населенных пунктов): 1362  \n",
    "Всего сфер деятельности: 294  \n",
    "\n",
    "\n",
    "Предварительно, зная только эту информацию и учитывая связи между данными, можно определенно утвреждать, что:  \n",
    " - в среднем(минимум один) работодатель предлагает 2 вакансий (49197 / 23501)  \n",
    " - в среднем(минимум в одном) в регионе предлагается 36 вакансий (49197 / 1362)  \n",
    " - в среднем(минимум от одной) от каждой индустрии(сферы деятельности) предлагается 167 вакансий (49197 / 294)  \n",
    " - в среднем(минимум в одном) регионе находится 17 работодателей (23501 / 1362)  \n",
    " - в среднем(минимум одна) каждая индустрия представлена 79 компанией (работодателем) (23501 / 294)  \n",
    "\n",
    "P.S.: в скобках есть оговорка (минимум ...), это означает, что может быть(и он наверняка есть) \"перекос\", т.е. когда, например, одна компания предлагает почти все вакансии, а каждая оставшаяся только по одной.  "
   ]
  },
  {
   "cell_type": "markdown",
   "id": "8d62a9f3-f64e-4fe7-bdac-c4dffa16155e",
   "metadata": {
    "id": "8d62a9f3-f64e-4fe7-bdac-c4dffa16155e"
   },
   "source": [
    "# Юнит 4. Детальный анализ вакансий"
   ]
  },
  {
   "cell_type": "markdown",
   "id": "93053d3d-b284-481a-9cf7-012d7014c0e0",
   "metadata": {
    "id": "93053d3d-b284-481a-9cf7-012d7014c0e0"
   },
   "source": [
    "1. Напишите запрос, который позволит узнать, сколько (cnt) вакансий в каждом регионе (area).\n",
    "Отсортируйте по количеству вакансий в порядке убывания."
   ]
  },
  {
   "cell_type": "code",
   "execution_count": 9,
   "id": "3f069da6-fdc9-4ae7-b514-fafe2675efd3",
   "metadata": {
    "id": "3f069da6-fdc9-4ae7-b514-fafe2675efd3"
   },
   "outputs": [
    {
     "name": "stdout",
     "output_type": "stream",
     "text": [
      "Топ-5 населенных пунктов по количеству вакансий\n",
      "      area_name  vacancies_count\n",
      "         Москва             5333\n",
      "Санкт-Петербург             2851\n",
      "          Минск             2112\n",
      "    Новосибирск             2006\n",
      "         Алматы             1892\n"
     ]
    }
   ],
   "source": [
    "load_and_show_data(f'''\n",
    "    SELECT a.name area_name, Count(*) AS vacancies_count\n",
    "    FROM areas a\n",
    "    JOIN  vacancies v ON a.id = v.area_id\n",
    "    GROUP BY area_name\n",
    "    ORDER BY vacancies_count DESC\n",
    "    LIMIT 5\n",
    "''', title_of_result='Топ-5 населенных пунктов по количеству вакансий');"
   ]
  },
  {
   "cell_type": "markdown",
   "id": "4266f0b6-1646-492a-88b4-2f6a46502135",
   "metadata": {
    "id": "4266f0b6-1646-492a-88b4-2f6a46502135"
   },
   "source": [
    "2. Напишите запрос, чтобы определить у какого количества вакансий заполнено хотя бы одно из двух полей с зарплатой."
   ]
  },
  {
   "cell_type": "code",
   "execution_count": 10,
   "id": "0c44b350-72eb-4d65-8b54-a1fc449ba9fd",
   "metadata": {
    "id": "0c44b350-72eb-4d65-8b54-a1fc449ba9fd"
   },
   "outputs": [
    {
     "name": "stdout",
     "output_type": "stream",
     "text": [
      "Результат запроса:\n",
      " not_empty_salary_count\n",
      "                  24073\n"
     ]
    }
   ],
   "source": [
    "load_and_show_data(f'''\n",
    "    SELECT Count(*) AS not_empty_salary_count\n",
    "    FROM vacancies\n",
    "    WHERE salary_from IS NOT NULL OR\n",
    "          salary_to   IS NOT NULL\n",
    "''');"
   ]
  },
  {
   "cell_type": "markdown",
   "id": "635c4d5d-f323-4c66-b428-50a088120aa0",
   "metadata": {
    "id": "635c4d5d-f323-4c66-b428-50a088120aa0"
   },
   "source": [
    "3. Найдите средние значения для нижней и верхней границы зарплатной вилки. Округлите значения до целого."
   ]
  },
  {
   "cell_type": "code",
   "execution_count": 11,
   "id": "603cdbe4-0ec3-4106-8eaf-c73fcdd29165",
   "metadata": {
    "id": "603cdbe4-0ec3-4106-8eaf-c73fcdd29165"
   },
   "outputs": [
    {
     "name": "stdout",
     "output_type": "stream",
     "text": [
      "Результат запроса:\n",
      " avg_salary_from  avg_salary_to\n",
      "         71065.0       110537.0\n"
     ]
    }
   ],
   "source": [
    "load_and_show_data(f'''\n",
    "    SELECT Round(Avg(salary_from)) avg_salary_from,\n",
    "           Round(Avg(salary_to)) avg_salary_to\n",
    "    FROM vacancies\n",
    "''');"
   ]
  },
  {
   "cell_type": "markdown",
   "id": "f3fdaec9-5fd3-4260-9cf5-1d7406b628a5",
   "metadata": {
    "id": "f3fdaec9-5fd3-4260-9cf5-1d7406b628a5"
   },
   "source": [
    "4. Напишите запрос, который выведет количество вакансий для каждого сочетания типа рабочего графика (schedule) и типа трудоустройства (employment), используемого в вакансиях. Результат отсортируйте по убыванию количества.\n"
   ]
  },
  {
   "cell_type": "code",
   "execution_count": 12,
   "id": "1ea710ec-871b-431e-9462-c7d0fd87011b",
   "metadata": {
    "id": "1ea710ec-871b-431e-9462-c7d0fd87011b"
   },
   "outputs": [
    {
     "name": "stdout",
     "output_type": "stream",
     "text": [
      "Результат запроса:\n",
      "        schedule          employment  vacancies_count\n",
      "     Полный день    Полная занятость            35367\n",
      "Удаленная работа    Полная занятость             7802\n",
      "   Гибкий график    Полная занятость             1593\n",
      "Удаленная работа Частичная занятость             1312\n",
      "  Сменный график    Полная занятость              940\n",
      "     Полный день          Стажировка              569\n",
      "  Вахтовый метод    Полная занятость              367\n",
      "     Полный день Частичная занятость              347\n",
      "   Гибкий график Частичная занятость              312\n",
      "     Полный день    Проектная работа              141\n",
      "Удаленная работа    Проектная работа              133\n",
      "   Гибкий график          Стажировка              116\n",
      "  Сменный график Частичная занятость              101\n",
      "Удаленная работа          Стажировка               64\n",
      "   Гибкий график    Проектная работа               18\n",
      "  Сменный график          Стажировка               12\n",
      "  Вахтовый метод    Проектная работа                2\n",
      "  Сменный график    Проектная работа                1\n"
     ]
    }
   ],
   "source": [
    "load_and_show_data(f'''\n",
    "    SELECT schedule, employment, Count(*) AS vacancies_count\n",
    "    FROM vacancies\n",
    "    GROUP BY schedule, employment\n",
    "    ORDER BY vacancies_count DESC\n",
    "''');"
   ]
  },
  {
   "cell_type": "markdown",
   "id": "0136ffee-0ead-4a6b-b608-61d1c753a438",
   "metadata": {
    "id": "0136ffee-0ead-4a6b-b608-61d1c753a438"
   },
   "source": [
    "5. Напишите запрос, выводящий значения поля Требуемый опыт работы (experience) в порядке возрастания количества вакансий, в которых указан данный вариант опыта. "
   ]
  },
  {
   "cell_type": "code",
   "execution_count": 13,
   "id": "5b3a8e79-f7ab-4008-b767-12aea3a205ea",
   "metadata": {
    "id": "5b3a8e79-f7ab-4008-b767-12aea3a205ea"
   },
   "outputs": [
    {
     "name": "stdout",
     "output_type": "stream",
     "text": [
      "Результат запроса:\n",
      "        experience  vacancies_count\n",
      "       Более 6 лет             1337\n",
      "         Нет опыта             7197\n",
      "     От 3 до 6 лет            14511\n",
      "От 1 года до 3 лет            26152\n"
     ]
    }
   ],
   "source": [
    "load_and_show_data(f'''\n",
    "    SELECT experience, Count(*) AS vacancies_count\n",
    "    FROM vacancies\n",
    "    GROUP BY 1\n",
    "    ORDER BY 2\n",
    "''');"
   ]
  },
  {
   "cell_type": "markdown",
   "id": "oq2b7n1QpIka",
   "metadata": {
    "id": "oq2b7n1QpIka"
   },
   "source": [
    "***"
   ]
  },
  {
   "cell_type": "markdown",
   "id": "e0243e5c",
   "metadata": {
    "id": "e91f87ed-e25c-4f96-9f92-b642e8c0b4fa"
   },
   "source": [
    "**Выводы по детальному анализу вакансий**\n",
    "\n",
    "Чем крупнее населенный пункт (площадь, население), тем больше вакансий предлагается в нем.  \n",
    "\n",
    "Почти у половины (24073) вакансий не указана одна из границ ЗП, возможно данные вакансии имеют определеную ставку(фиксированная ЗП, бюджет?).  \n",
    "\n",
    "Средне-максимальная ЗП выше средне-минимальной в полтора раза (110537.0 / 71065.0).  \n",
    "\n",
    "По распорядку и типу занятости явный лидер: \"Полный день/Полная занятость\", хотя на 'пятки уже наступает' \"Удаленная работа\" (пока в ~4.5 раза меньше).  \n",
    "\n",
    "Среди кандидатов работодатель выбирает \"золотую середину\" - средне-минимальный опыт: от кандидата будет средний результат при возможно средней ЗП(?). Наверное имеет смысл посмотреть \"Опыт\" в разрезе \"ЗП\"  "
   ]
  },
  {
   "cell_type": "markdown",
   "id": "7ea20ab6-04a7-40a0-adec-443a0e5a42c3",
   "metadata": {
    "id": "7ea20ab6-04a7-40a0-adec-443a0e5a42c3"
   },
   "source": [
    "# Юнит 5. Анализ работодателей"
   ]
  },
  {
   "cell_type": "markdown",
   "id": "968aed80-74ef-4ffb-b5bf-c65b84e9caea",
   "metadata": {
    "id": "968aed80-74ef-4ffb-b5bf-c65b84e9caea"
   },
   "source": [
    "1. Напишите запрос, который позволит узнать, какие работодатели находятся на первом и пятом месте по количеству вакансий."
   ]
  },
  {
   "cell_type": "code",
   "execution_count": 14,
   "id": "f2d62796-d400-4ec1-a675-88112739a50e",
   "metadata": {
    "id": "f2d62796-d400-4ec1-a675-88112739a50e"
   },
   "outputs": [
    {
     "name": "stdout",
     "output_type": "stream",
     "text": [
      "Результат запроса:\n",
      "    company_name  company_vacancies\n",
      "0         Яндекс               1933\n",
      "1     Ростелеком                491\n",
      "2       Тинькофф                444\n",
      "3           СБЕР                428\n",
      "4  Газпром нефть                331\n"
     ]
    }
   ],
   "source": [
    "load_and_show_data(f'''\n",
    "(\n",
    "    SELECT e.name company_name, Count(v.id) company_vacancies\n",
    "    FROM employers e\n",
    "    JOIN vacancies v ON e.id = v.employer_id\n",
    "    GROUP BY company_name\n",
    "    ORDER BY company_vacancies DESC\n",
    "    LIMIT 5\n",
    ")\n",
    "''', show_index=True);"
   ]
  },
  {
   "cell_type": "markdown",
   "id": "68377cfc-b378-43dc-ab7d-1195abf2c515",
   "metadata": {
    "id": "68377cfc-b378-43dc-ab7d-1195abf2c515"
   },
   "source": [
    "2. Напишите запрос, который для каждого региона выведет количество работодателей и вакансий в нём.\n",
    "Среди регионов, в которых нет вакансий, найдите тот, в котором наибольшее количество работодателей.\n"
   ]
  },
  {
   "cell_type": "code",
   "execution_count": 15,
   "id": "dd7df27a-e3e8-412e-a21a-5d389b71e891",
   "metadata": {
    "id": "dd7df27a-e3e8-412e-a21a-5d389b71e891"
   },
   "outputs": [
    {
     "name": "stdout",
     "output_type": "stream",
     "text": [
      "Результат запроса:\n",
      "                 name  employers_cnt  vacancies_count\n",
      "               Россия            410                0\n",
      "            Казахстан            207                0\n",
      "   Московская область             75                0\n",
      "   Краснодарский край             19                0\n",
      "   Ростовская область             18                0\n",
      "             Беларусь             18                0\n",
      "          Азербайджан             17                0\n",
      "Нижегородская область             16                0\n",
      " Республика Татарстан             16                0\n",
      "           Узбекистан             15                0\n"
     ]
    }
   ],
   "source": [
    "load_and_show_data(f'''\n",
    "    SELECT a.name, Count(e.id) AS employers_cnt, Count(v.id) AS vacancies_count\n",
    "    FROM areas a \n",
    "    JOIN employers e ON a.id = e.area\n",
    "    LEFT JOIN vacancies v ON a.id = v.area_id\n",
    "    WHERE v.id IS NULL\n",
    "    GROUP BY 1\n",
    "    ORDER BY 3, 2 DESC\n",
    "    LIMIT 10\n",
    "''');"
   ]
  },
  {
   "cell_type": "markdown",
   "id": "f2fe0acb-ab1a-4e15-9326-2560e22d73c1",
   "metadata": {
    "id": "f2fe0acb-ab1a-4e15-9326-2560e22d73c1"
   },
   "source": [
    "3. Для каждого работодателя посчитайте количество регионов, в которых он публикует свои вакансии. Отсортируйте результат по убыванию количества.\n"
   ]
  },
  {
   "cell_type": "code",
   "execution_count": 16,
   "id": "6271f8ad-bd2e-4196-ae4a-5b39c4c1010e",
   "metadata": {
    "id": "6271f8ad-bd2e-4196-ae4a-5b39c4c1010e"
   },
   "outputs": [
    {
     "name": "stdout",
     "output_type": "stream",
     "text": [
      "Результат запроса:\n",
      "             employer_name  area_count\n",
      "                    Яндекс         181\n",
      "                Ростелеком         152\n",
      "                Спецремонт         116\n",
      "    Поляков Денис Иванович          88\n",
      "                 ООО ЕФИН           71\n",
      "                Совкомбанк          63\n",
      "                       МТС          55\n",
      "ЭФКО, Управляющая компания          49\n",
      "              Почта России          48\n",
      "                      КРОН          48\n"
     ]
    }
   ],
   "source": [
    "load_and_show_data(f'''\n",
    "    SELECT e.name employer_name, Count(DISTINCT area_id) AS area_count\n",
    "    FROM vacancies v\n",
    "    JOIN employers e ON v.employer_id = e.id\n",
    "    GROUP BY employer_name\n",
    "    ORDER BY area_count DESC\n",
    "    LIMIT 10\n",
    "''');"
   ]
  },
  {
   "cell_type": "markdown",
   "id": "eab2206d-d95b-468b-8e5f-34381abf0ce7",
   "metadata": {
    "id": "eab2206d-d95b-468b-8e5f-34381abf0ce7"
   },
   "source": [
    "4. Напишите запрос для подсчёта количества работодателей, у которых не указана сфера деятельности. "
   ]
  },
  {
   "cell_type": "code",
   "execution_count": 17,
   "id": "80defb23-bfb1-4a18-8be6-bf36aa7165d5",
   "metadata": {
    "id": "80defb23-bfb1-4a18-8be6-bf36aa7165d5"
   },
   "outputs": [
    {
     "name": "stdout",
     "output_type": "stream",
     "text": [
      "Результат запроса:\n",
      " employers_without_industries_count\n",
      "                               8419\n"
     ]
    }
   ],
   "source": [
    "load_and_show_data(f'''\n",
    "    SELECT Count(*) AS employers_without_industries_count\n",
    "    FROM employers e\n",
    "    LEFT JOIN employers_industries ei ON e.id = ei.employer_id\n",
    "    WHERE ei.employer_id IS NULL\n",
    "''');"
   ]
  },
  {
   "cell_type": "markdown",
   "id": "0112af31-f6b0-4e3b-82ab-71296e752e5e",
   "metadata": {
    "id": "0112af31-f6b0-4e3b-82ab-71296e752e5e"
   },
   "source": [
    "5. Напишите запрос, чтобы узнать название компании, находящейся на третьем месте в алфавитном списке (по названию) компаний, у которых указано четыре сферы деятельности. "
   ]
  },
  {
   "cell_type": "code",
   "execution_count": 18,
   "id": "973b0cfc-a972-470a-8b4a-68744ef220c4",
   "metadata": {
    "id": "973b0cfc-a972-470a-8b4a-68744ef220c4"
   },
   "outputs": [
    {
     "name": "stdout",
     "output_type": "stream",
     "text": [
      "Результат запроса:\n",
      "        name\n",
      "101 Интернет\n",
      "    21vek.by\n",
      "        2ГИС\n"
     ]
    }
   ],
   "source": [
    "load_and_show_data(f'''\n",
    "    SELECT e.name\n",
    "    FROM employers e\n",
    "    JOIN employers_industries ei ON e.id = ei.employer_id\n",
    "    GROUP BY e.name\n",
    "    HAVING Count(distinct ei.industry_id) = 4\n",
    "    ORDER BY e.name\n",
    "    LIMIT 3\n",
    "''');"
   ]
  },
  {
   "cell_type": "markdown",
   "id": "3bfcfdaf-755d-4d2b-8ed8-326201dc07ab",
   "metadata": {
    "id": "3bfcfdaf-755d-4d2b-8ed8-326201dc07ab"
   },
   "source": [
    "6. С помощью запроса выясните, у какого количества работодателей в качестве сферы деятельности указана Разработка программного обеспечения.\n"
   ]
  },
  {
   "cell_type": "code",
   "execution_count": 19,
   "id": "ad3f270f-2991-47eb-929b-e8f88a55b0d1",
   "metadata": {
    "id": "ad3f270f-2991-47eb-929b-e8f88a55b0d1"
   },
   "outputs": [
    {
     "name": "stdout",
     "output_type": "stream",
     "text": [
      "Результат запроса:\n",
      " emp_dev_po\n",
      "       3553\n"
     ]
    }
   ],
   "source": [
    "load_and_show_data(f'''\n",
    "    SELECT Count(DISTINCT ei.employer_id) AS emp_dev_po\n",
    "    FROM employers_industries ei\n",
    "    JOIN industries i ON ei.industry_id = i.id\n",
    "    WHERE i.name = 'Разработка программного обеспечения'\n",
    "''');"
   ]
  },
  {
   "cell_type": "markdown",
   "id": "7b02bb86-0546-40fb-94a4-242f050a5c57",
   "metadata": {
    "id": "7b02bb86-0546-40fb-94a4-242f050a5c57"
   },
   "source": [
    "7. Для компании «Яндекс» выведите список регионов-миллионников, в которых представлены вакансии компании, вместе с количеством вакансий в этих регионах. Также добавьте строку Total с общим количеством вакансий компании. Результат отсортируйте по возрастанию количества.\n",
    "\n",
    "Список городов-милионников надо взять [отсюда](https://ru.wikipedia.org/wiki/%D0%93%D0%BE%D1%80%D0%BE%D0%B4%D0%B0-%D0%BC%D0%B8%D0%BB%D0%BB%D0%B8%D0%BE%D0%BD%D0%B5%D1%80%D1%8B_%D0%A0%D0%BE%D1%81%D1%81%D0%B8%D0%B8). \n",
    "\n",
    "Если возникнут трудности с этим задание посмотрите материалы модуля  PYTHON-17. Как получать данные из веб-источников и API. "
   ]
  },
  {
   "cell_type": "code",
   "execution_count": 20,
   "id": "ZdfrL6gIs1Pn",
   "metadata": {
    "id": "ZdfrL6gIs1Pn"
   },
   "outputs": [
    {
     "name": "stdout",
     "output_type": "stream",
     "text": [
      "Найдены следующие города-миллионнеры (всего-16):\n",
      "Москва\n",
      "Санкт-Петербург\n",
      "Новосибирск\n",
      "Екатеринбург\n",
      "Казань\n",
      "Нижний Новгород\n",
      "Челябинск\n",
      "Красноярск\n",
      "Самара\n",
      "Уфа\n",
      "Ростов-на-Дону\n",
      "Омск\n",
      "Краснодар\n",
      "Воронеж\n",
      "Пермь\n",
      "Волгоград\n"
     ]
    }
   ],
   "source": [
    "url = 'https://ru.wikipedia.org/wiki/%D0%93%D0%BE%D1%80%D0%BE%D0%B4%D0%B0-%D0%BC%D0%B8%D0%BB%D0%BB%D0%B8%D0%BE%D0%BD%D0%B5%D1%80%D1%8B_%D0%A0%D0%BE%D1%81%D1%81%D0%B8%D0%B8'\n",
    "text = requests.get(url).text\n",
    "\n",
    "table_with_cities = BeautifulSoup(text, 'html.parser').find('span', id='Список_городов-миллионеров')\n",
    "table_with_cities = table_with_cities.parent.next_sibling\n",
    "\n",
    "while table_with_cities.name != 'table':\n",
    "    table_with_cities = table_with_cities.next_sibling\n",
    "\n",
    "table_with_cities_trs = table_with_cities.find('tbody').find_all('tr')\n",
    "\n",
    "million_cities = []\n",
    "for row in table_with_cities_trs:\n",
    "    tds = row.find_all('td')\n",
    "    if len(tds) > 1:\n",
    "        million_cities.append(tds[1].text.strip().replace('[a]', ''))\n",
    "\n",
    "print('Найдены следующие города-миллионнеры (всего-{}):'.format(len(million_cities)))\n",
    "print(*million_cities, sep='\\n')"
   ]
  },
  {
   "cell_type": "code",
   "execution_count": 21,
   "id": "5a0e32a4-e68a-4365-8a39-2fe24c542c36",
   "metadata": {
    "id": "5a0e32a4-e68a-4365-8a39-2fe24c542c36"
   },
   "outputs": [
    {
     "name": "stdout",
     "output_type": "stream",
     "text": [
      "Результат запроса:\n",
      "               name  cnt\n",
      "0              Омск   21\n",
      "1         Челябинск   22\n",
      "2        Красноярск   23\n",
      "3         Волгоград   24\n",
      "4            Казань   25\n",
      "5             Пермь   25\n",
      "6    Ростов-на-Дону   25\n",
      "7            Самара   26\n",
      "8               Уфа   26\n",
      "9         Краснодар   30\n",
      "10          Воронеж   32\n",
      "11      Новосибирск   35\n",
      "12  Нижний Новгород   36\n",
      "13     Екатеринбург   39\n",
      "14  Санкт-Петербург   42\n",
      "15           Москва   54\n",
      "16            Total  485\n"
     ]
    }
   ],
   "source": [
    "where_million_cities = \"'\" + \"','\".join(million_cities) + \"'\"\n",
    "where_company_name = \"'Яндекс'\"\n",
    "\n",
    "load_and_show_data(f'''\n",
    "(\n",
    "SELECT a.name AS name, Count(*) AS cnt\n",
    "FROM areas a\n",
    "JOIN vacancies v ON a.id = v.area_id\n",
    "JOIN employers e ON e.id = v.employer_id\n",
    "WHERE a.name IN ({where_million_cities}) AND e.name = {where_company_name}\n",
    "GROUP BY a.name\n",
    ")\n",
    "UNION\n",
    "(\n",
    "SELECT 'Total' AS name, Count(*) cnt\n",
    "FROM areas a\n",
    "JOIN vacancies v ON a.id = v.area_id\n",
    "JOIN employers e ON e.id = v.employer_id\n",
    "WHERE a.name IN ({where_million_cities}) AND e.name = {where_company_name}\n",
    ")\n",
    "ORDER BY cnt, name\n",
    "''', show_index=True);"
   ]
  },
  {
   "cell_type": "markdown",
   "id": "04966e40-3bc3-4dc8-9ba2-e80580ce3abc",
   "metadata": {
    "id": "04966e40-3bc3-4dc8-9ba2-e80580ce3abc"
   },
   "source": [
    "***"
   ]
  },
  {
   "cell_type": "markdown",
   "id": "1cf49e2d",
   "metadata": {
    "id": "aGGyER-yt4SR"
   },
   "source": [
    "**Выводы по анализу работодателей**\n",
    "\n",
    "Больше всех вакансии (почти в 4 раза от \"второго\" места) предлагает компания Яндекс, далее в ТОП-25 (с количеством предлагаемых вакансий от 100), входят довольно крупные компании (ИТ, Банки, Связь, Нефть), которым постоянно требуется новые кадры: развитие, возможная \"текучка кадров\", расширение бизнеса и т.д.\n",
    "\n",
    "Учитывая регионы в которых не предлагается вакансий, можно выявить следующую закономерность: чем крупнее(обширнее) область (страна, регион/республика, город), тем больше в ней компаний у которых нет вакансий. Скорее всего это связано с небольшими компаниями, которые обобщенно указывали наиболее крупный регион (возможно требовалось для регистрации на HH) и предлагали удаленную работу. После закрытия вакансии, информации об компании оставалась в БД HH, при этом вакансия уже \"не видна\" и так и образовались работодатели \"без вакансии\".\n",
    "\n",
    "Наибольшее количество регионов у \"троицы\": Яндекс, Ростелеком, Спецремонт, это может быть связано с широкой сетью офисов(предоставления услуг) по регионам, что точно характерно для Ростелекома. Также возможно идет \"сбор специалистов по регионом\" с возможной удаленной работой или предложением постоянной релокации в ближайший офис компании\n",
    "\n",
    "Компания \"Яндекс\" представлена(предлагает вакансии) в каждом из регионов-миллионников, практически пропорционально (кол-во вакансий) населению этого региона."
   ]
  },
  {
   "cell_type": "markdown",
   "id": "b1ef156a-efcb-49ce-bb23-90763e7f35b2",
   "metadata": {
    "id": "b1ef156a-efcb-49ce-bb23-90763e7f35b2",
    "tags": []
   },
   "source": [
    "# Юнит 6. Предметный анализ"
   ]
  },
  {
   "cell_type": "markdown",
   "id": "b9cd50a0-992d-4988-8463-2b2b1c4629b4",
   "metadata": {
    "id": "b9cd50a0-992d-4988-8463-2b2b1c4629b4"
   },
   "source": [
    "1. Сколько вакансий имеет отношение к данным?\n",
    "\n",
    "Считаем, что вакансия имеет отношение к данным, если в её названии содержатся слова 'data' или 'данн'.\n",
    "\n",
    "*Подсказка: Обратите внимание, что названия вакансий могут быть написаны в любом регистре.* \n"
   ]
  },
  {
   "cell_type": "code",
   "execution_count": 22,
   "id": "54ab0e50-c0f1-47cc-a54b-bc5c8bc363f9",
   "metadata": {
    "id": "54ab0e50-c0f1-47cc-a54b-bc5c8bc363f9"
   },
   "outputs": [
    {
     "name": "stdout",
     "output_type": "stream",
     "text": [
      "Результат запроса:\n",
      " ds_count\n",
      "     1771\n"
     ]
    }
   ],
   "source": [
    "load_and_show_data(f'''\n",
    "    SELECT Count(*) AS ds_count\n",
    "    FROM vacancies\n",
    "    WHERE Lower(name) LIKE '%data%' OR Lower(name) LIKE '%данн%'\n",
    "''');"
   ]
  },
  {
   "cell_type": "markdown",
   "id": "4dea20cb-a36b-474a-a0b9-e08e8e3857a5",
   "metadata": {
    "id": "4dea20cb-a36b-474a-a0b9-e08e8e3857a5"
   },
   "source": [
    "2. Сколько есть подходящих вакансий для начинающего дата-сайентиста? \n",
    "Будем считать вакансиями для дата-сайентистов такие, в названии которых есть хотя бы одно из следующих сочетаний:\n",
    "* 'data scientist'\n",
    "* 'data science'\n",
    "* 'исследователь данных'\n",
    "* 'ML' (здесь не нужно брать вакансии по HTML)\n",
    "* 'machine learning'\n",
    "* 'машинн%обучен%'\n",
    "\n",
    "** В следующих заданиях мы продолжим работать с вакансиями по этому условию.*\n",
    "\n",
    "Считаем вакансиями для специалистов уровня Junior следующие:\n",
    "* в названии есть слово 'junior' *или*\n",
    "* требуемый опыт — Нет опыта *или*\n",
    "* тип трудоустройства — Стажировка.\n",
    " "
   ]
  },
  {
   "cell_type": "code",
   "execution_count": 23,
   "id": "9c61b3c0-bb66-46c9-ae1e-81d3f5752b4a",
   "metadata": {
    "id": "9c61b3c0-bb66-46c9-ae1e-81d3f5752b4a"
   },
   "outputs": [
    {
     "name": "stdout",
     "output_type": "stream",
     "text": [
      "Результат запроса:\n",
      " junior_cnt\n",
      "         51\n"
     ]
    }
   ],
   "source": [
    "data_sience_where = '''(\n",
    "        Lower(name) LIKE '%data scientist%'\n",
    "        OR Lower(name) LIKE '%data science%'\n",
    "        OR Lower(name) LIKE '%исследователь данных%'\n",
    "        OR Lower(name) LIKE '%machine learning%'\n",
    "        OR Lower(name) LIKE '%машинн%обучен%%'\n",
    "        OR (\n",
    "            name LIKE '%ML%'\n",
    "            AND name NOT LIKE '%HTML%'\n",
    "        )\n",
    ")'''\n",
    "\n",
    "load_and_show_data(f'''\n",
    "    SELECT Count(*) AS junior_cnt\n",
    "    FROM vacancies\n",
    "    WHERE {data_sience_where}\n",
    "        AND (\n",
    "            Lower(name) LIKE '%junior%'\n",
    "            OR experience = 'Нет опыта'\n",
    "            OR employment = 'Стажировка'\n",
    "        )\n",
    "''');"
   ]
  },
  {
   "cell_type": "markdown",
   "id": "eedceb80-c5ca-480e-b27a-278dfb8b4438",
   "metadata": {
    "id": "eedceb80-c5ca-480e-b27a-278dfb8b4438"
   },
   "source": [
    "3. Сколько есть вакансий для DS, в которых в качестве ключевого навыка указан SQL или postgres?\n",
    "\n",
    "** Критерии для отнесения вакансии к DS указаны в предыдущем задании.*"
   ]
  },
  {
   "cell_type": "code",
   "execution_count": 24,
   "id": "69621713-0cc5-4f1b-a1d7-bb144fa6148c",
   "metadata": {
    "id": "69621713-0cc5-4f1b-a1d7-bb144fa6148c"
   },
   "outputs": [
    {
     "name": "stdout",
     "output_type": "stream",
     "text": [
      "Результат запроса:\n",
      " ds_and_db_cnt\n",
      "           201\n"
     ]
    }
   ],
   "source": [
    "load_and_show_data(f'''\n",
    "    SELECT Count(*) AS ds_and_db_cnt\n",
    "    FROM vacancies\n",
    "    WHERE {data_sience_where}\n",
    "        AND (\n",
    "            Upper(key_skills) LIKE '%SQL%'\n",
    "            OR Lower(key_skills) LIKE '%postgres%'\n",
    "        )\n",
    "''');"
   ]
  },
  {
   "cell_type": "markdown",
   "id": "1be1e9c6-37cf-4a5f-bfeb-04cab799dc80",
   "metadata": {
    "id": "1be1e9c6-37cf-4a5f-bfeb-04cab799dc80"
   },
   "source": [
    "4. Проверьте, насколько популярен Python в требованиях работодателей к DS.Для этого вычислите количество вакансий, в которых в качестве ключевого навыка указан Python.\n",
    "\n",
    "** Это можно сделать помощью запроса, аналогичного предыдущему.*"
   ]
  },
  {
   "cell_type": "code",
   "execution_count": 25,
   "id": "0036a355-9ccf-4564-8b01-73d8194297e7",
   "metadata": {
    "id": "0036a355-9ccf-4564-8b01-73d8194297e7"
   },
   "outputs": [
    {
     "name": "stdout",
     "output_type": "stream",
     "text": [
      "Результат запроса:\n",
      " ds_and_python_cnt\n",
      "               351\n"
     ]
    }
   ],
   "source": [
    "load_and_show_data(f'''\n",
    "    SELECT count(*) ds_and_python_cnt\n",
    "    FROM vacancies\n",
    "    WHERE {data_sience_where}\n",
    "        AND  Lower(key_skills) LIKE '%python%'\n",
    "''');"
   ]
  },
  {
   "cell_type": "markdown",
   "id": "ec3c8db7-fa21-4a41-a994-1af63742a642",
   "metadata": {
    "id": "ec3c8db7-fa21-4a41-a994-1af63742a642"
   },
   "source": [
    "5. Сколько ключевых навыков в среднем указывают в вакансиях для DS?\n",
    "Ответ округлите до двух знаков после точки-разделителя."
   ]
  },
  {
   "cell_type": "code",
   "execution_count": 26,
   "id": "949132bc-d5b6-4611-8218-0b9a504d74f4",
   "metadata": {
    "id": "949132bc-d5b6-4611-8218-0b9a504d74f4"
   },
   "outputs": [
    {
     "name": "stdout",
     "output_type": "stream",
     "text": [
      "Результат запроса:\n",
      " ds_key_skills_cnt\n",
      "              6.41\n"
     ]
    }
   ],
   "source": [
    "load_and_show_data(f'''\n",
    "    SELECT Round(\n",
    "                Avg(\n",
    "                    1 + length(key_skills) - length(replace(key_skills, chr(9), ''))  \n",
    "                )\n",
    "            , 2) AS ds_key_skills_cnt\n",
    "    FROM vacancies\n",
    "    WHERE {data_sience_where}\n",
    "        AND  key_skills IS NOT NULL\n",
    "''');"
   ]
  },
  {
   "cell_type": "markdown",
   "id": "1041c17a-ca8f-4543-a0ca-32778914fb00",
   "metadata": {
    "id": "1041c17a-ca8f-4543-a0ca-32778914fb00"
   },
   "source": [
    "6. Напишите запрос, позволяющий вычислить, какую зарплату для DS в **среднем** указывают для каждого типа требуемого опыта (уникальное значение из поля *experience*). \n",
    "\n",
    "При решении задачи примите во внимание следующее:\n",
    "1. Рассматриваем только вакансии, у которых заполнено хотя бы одно из двух полей с зарплатой.\n",
    "2. Если заполнены оба поля с зарплатой, то считаем зарплату по каждой вакансии как сумму двух полей, делённую на 2. Если заполнено только одно из полей, то его и считаем зарплатой по вакансии.\n",
    "3. Если в расчётах участвует null, в результате он тоже даст null (посмотрите, что возвращает запрос select 1 + null). Чтобы избежать этой ситуацию, мы воспользуемся функцией [coalesce](https://postgrespro.ru/docs/postgresql/9.5/functions-conditional#functions-coalesce-nvl-ifnull), которая заменит null на значение, которое мы передадим. Например, посмотрите, что возвращает запрос `select 1 + coalesce(null, 0)`\n",
    "\n",
    "Выясните, на какую зарплату в среднем может рассчитывать дата-сайентист с опытом работы от 3 до 6 лет. Результат округлите до целого числа. "
   ]
  },
  {
   "cell_type": "code",
   "execution_count": 27,
   "id": "6a743d39-5204-48d3-8271-b9f88e68d40e",
   "metadata": {
    "id": "6a743d39-5204-48d3-8271-b9f88e68d40e"
   },
   "outputs": [
    {
     "name": "stdout",
     "output_type": "stream",
     "text": [
      "Результат запроса:\n",
      "        experience  ds_avg_salary\n",
      "         Нет опыта        74643.0\n",
      "От 1 года до 3 лет       139675.0\n",
      "     От 3 до 6 лет       243115.0\n"
     ]
    }
   ],
   "source": [
    "load_and_show_data(f'''\n",
    "    SELECT experience,\n",
    "           Round(Avg(\n",
    "                    (Coalesce(salary_from, salary_to) + Coalesce(salary_to, salary_from)) / 2\n",
    "                )) AS ds_avg_salary\n",
    "    FROM vacancies\n",
    "    WHERE  (\n",
    "            salary_to IS NOT NULL\n",
    "            OR salary_from IS NOT NULL\n",
    "           ) AND {data_sience_where}  \n",
    "    GROUP BY experience\n",
    "''');"
   ]
  },
  {
   "cell_type": "markdown",
   "id": "6a7892b4-4113-4746-adce-18aa2844f18e",
   "metadata": {
    "id": "6a7892b4-4113-4746-adce-18aa2844f18e"
   },
   "source": [
    "***"
   ]
  },
  {
   "cell_type": "markdown",
   "id": "c7427799",
   "metadata": {
    "id": "UjLWUptVwY1o"
   },
   "source": [
    "**Выводы по предметному анализу**\n",
    "\n",
    "Вакансии конкретно для DataSience занимают примерно 3.6% (1771 / 49197 * 100) от общего числа вакансий, что в общем-то не мало.  \n",
    "Среди представленных вакансий найдется место и юниорам 2.9% (51 / 1771 * 100)"
   ]
  },
  {
   "cell_type": "markdown",
   "id": "c0ED6fh7wiBT",
   "metadata": {
    "id": "c0ED6fh7wiBT"
   },
   "source": [
    "# Общий вывод по проекту"
   ]
  },
  {
   "cell_type": "markdown",
   "id": "8386c89a",
   "metadata": {
    "id": "h9B3BL-wwj18"
   },
   "source": [
    "**Каких вакансий много?**\n",
    "\n",
    "Как показывает запрос ниже в ТОП-50 входят вакансии, связанные с ИТ, среди них пара лидеров: \"Системный администратор\" и \"Программист 1С\""
   ]
  },
  {
   "cell_type": "code",
   "execution_count": 28,
   "id": "ea2500be",
   "metadata": {},
   "outputs": [
    {
     "name": "stdout",
     "output_type": "stream",
     "text": [
      "Топ-50 вакансий:\n",
      "                                                          vacancy_name  vacancy_count\n",
      "                                               Системный администратор           1761\n",
      "                                                        Программист 1С           1153\n",
      "                                                       Бизнес-аналитик            488\n",
      "                                      Специалист технической поддержки            457\n",
      "                                                    Системный аналитик            432\n",
      "                                                              Аналитик            404\n",
      "                                                   Инженер-программист            389\n",
      "                                                        Программист 1C            360\n",
      "                                                  Frontend-разработчик            242\n",
      "                                         Инженер технической поддержки            230\n",
      "                                                           Программист            224\n",
      "                                                  Руководитель проекта            191\n",
      "                               Младший специалист ручного тестирования            169\n",
      "                           Специалист службы поддержки в Яндекс Бизнес            168\n",
      "                                                     Менеджер проектов            153\n",
      "                                                      Java-разработчик            150\n",
      "                             Специалист по информационной безопасности            148\n",
      "            Специалист службы поддержки Рекламной сети Яндекса и ADFOX            139\n",
      "                                                       PHP-разработчик            135\n",
      "                             Специалист службы поддержки пользователей            126\n",
      "                                                   Компьютерный мастер            123\n",
      "                                                      Менеджер проекта            120\n",
      "                                                  Технический писатель            111\n",
      "                                                   Маркетолог-аналитик            108\n",
      "                                                 Руководитель проектов            106\n",
      "                                                Ведущий программист 1C            106\n",
      "                                                Технический специалист            104\n",
      "                                    Сотрудник поддержки поиска Яндекса             99\n",
      "                            Технический писатель (дистанционный автор)             99\n",
      "                                       Ведущий системный администратор             99\n",
      "                                   Специалист поддержки в Yandex Cloud             97\n",
      "                                                Ведущий программист 1С             94\n",
      "                                                  Технический директор             94\n",
      "                                           Ведущий инженер-программист             92\n",
      "                                                           QA Engineer             91\n",
      "                                                       Web-разработчик             88\n",
      "                                                       IOS разработчик             86\n",
      "                                    Помощник системного администратора             86\n",
      "                                               Программист-разработчик             85\n",
      "                                                           Аналитик 1С             85\n",
      "Специалист службы поддержки с техническими знаниями (Умные устройства)             84\n",
      "                                                        Разработчик 1С             83\n",
      "                                                   Компьютерный Мастер             83\n",
      "                                                        Консультант 1С             82\n",
      "                                                       Project Manager             81\n",
      "                                                       Web-программист             81\n",
      "                                          Ученик компьютерного мастера             79\n",
      "                                                       Аналитик данных             78\n",
      "                                                               Инженер             78\n",
      "                                                       Сетевой инженер             78\n"
     ]
    }
   ],
   "source": [
    "load_and_show_data(f'''\n",
    "    SELECT name AS vacancy_name, Count(*) AS vacancy_count\n",
    "    FROM vacancies\n",
    "    GROUP BY 1\n",
    "    ORDER BY 2 DESC\n",
    "    LIMIT 50\n",
    "''', title_of_result='Топ-50 вакансий:');"
   ]
  },
  {
   "cell_type": "markdown",
   "id": "a1e90326",
   "metadata": {},
   "source": [
    "**Что можно сказать о рынке труда в различных городах?**\n",
    "\n",
    "Как показывает запрос ниже, более высокие (средние) ЗП в города за пределами России."
   ]
  },
  {
   "cell_type": "code",
   "execution_count": 29,
   "id": "14e953f8",
   "metadata": {},
   "outputs": [
    {
     "name": "stdout",
     "output_type": "stream",
     "text": [
      "Результат запроса:\n",
      "      area_name  ds_avg_salary  vacancies_count\n",
      "         Турция       235435.0               19\n",
      "           Кипр       223736.0               39\n",
      "        Армения       219570.0              106\n",
      "         Сербия       208423.0               12\n",
      "        Тбилиси       207156.0               80\n",
      "         Батуми       199834.0               18\n",
      "      Иннополис       175882.0               17\n",
      "           Баку       155747.0               51\n",
      "         Москва       134140.0             1592\n",
      "          Лобня       121136.0               11\n",
      "        Магадан       117033.0               19\n",
      "     Зеленоград       116946.0               76\n",
      "    Новосибирск       107777.0              929\n",
      "Санкт-Петербург       104410.0             1203\n",
      "           Сочи        99437.0              155\n",
      "          Томск        99319.0              350\n",
      "          Химки        98641.0               51\n",
      "Нижний Новгород        96059.0              680\n",
      "          Пермь        95985.0              352\n",
      "         Мытищи        94567.0               60\n"
     ]
    }
   ],
   "source": [
    "load_and_show_data(f'''\n",
    "    SELECT a.name AS area_name,\n",
    "            Round(\n",
    "                Avg(\n",
    "                    (Coalesce(salary_from, salary_to) + Coalesce(salary_to, salary_from)) / 2\n",
    "                )\n",
    "            ) AS ds_avg_salary, \n",
    "            Count(v.id) AS vacancies_count\n",
    "    FROM areas a\n",
    "    JOIN vacancies v ON v.area_id = a.id\n",
    "    WHERE  (\n",
    "            v.salary_to   IS NOT NULL OR\n",
    "            v.salary_from IS NOT NULL\n",
    "        )\n",
    "    GROUP BY area_name\n",
    "    HAVING Count(v.id) > 10\n",
    "    ORDER BY ds_avg_salary DESC\n",
    "    LIMIT 20\n",
    "''');"
   ]
  },
  {
   "cell_type": "markdown",
   "id": "4586ed94",
   "metadata": {},
   "source": [
    "**Какие ещё интересные исследования можно провести?**\n",
    "\n",
    "Интересна ЗП дата-сайентистов, неплохая медиана и очень хорошая ЗП у специалистов.\n",
    "\n",
    "*При неккоректном отражении, график доступен по ссылке: https://disk.yandex.ru/i/qolwWBhllPHAWA"
   ]
  },
  {
   "cell_type": "code",
   "execution_count": 30,
   "id": "86657c2c",
   "metadata": {},
   "outputs": [
    {
     "data": {
      "image/png": "[encoded data removed]",
      "text/plain": [
       "<Figure size 640x480 with 1 Axes>"
      ]
     },
     "metadata": {},
     "output_type": "display_data"
    }
   ],
   "source": [
    "load_and_show_data(f'''\n",
    "    SELECT  (Coalesce(salary_from, salary_to) + Coalesce(salary_to, salary_from)) / 2 AS salary\n",
    "    FROM vacancies\n",
    "    WHERE  (\n",
    "            salary_to   IS NOT NULL OR\n",
    "            salary_from IS NOT NULL\n",
    "        ) AND {data_sience_where} \n",
    "''', show_result=False).boxplot('salary');"
   ]
  },
  {
   "cell_type": "code",
   "execution_count": null,
   "id": "a84ab60d",
   "metadata": {},
   "outputs": [],
   "source": []
  }
 ],
 "metadata": {
  "colab": {
   "collapsed_sections": [
    "8d62a9f3-f64e-4fe7-bdac-c4dffa16155e"
   ],
   "provenance": []
  },
  "kernelspec": {
   "display_name": "Python 3 (ipykernel)",
   "language": "python",
   "name": "python3"
  },
  "language_info": {
   "codemirror_mode": {
    "name": "ipython",
    "version": 3
   },
   "file_extension": ".py",
   "mimetype": "text/x-python",
   "name": "python",
   "nbconvert_exporter": "python",
   "pygments_lexer": "ipython3",
   "version": "3.9.13"
  }
 },
 "nbformat": 4,
 "nbformat_minor": 5
}
